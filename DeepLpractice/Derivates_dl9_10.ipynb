{
 "cells": [
  {
   "cell_type": "code",
   "execution_count": 1,
   "id": "736b1304",
   "metadata": {},
   "outputs": [],
   "source": [
    "# slope is for linear equation and it is constant.\n",
    "# Derivative is used for non linear equation and it is a function."
   ]
  },
  {
   "cell_type": "code",
   "execution_count": 2,
   "id": "bd648c80",
   "metadata": {},
   "outputs": [
    {
     "data": {
      "text/plain": [
       "array([[30000, 16000, 60000],\n",
       "       [ 5000,  4000, 18000],\n",
       "       [ 2000,  2000,  8400]])"
      ]
     },
     "execution_count": 2,
     "metadata": {},
     "output_type": "execute_result"
    }
   ],
   "source": [
    "# Matrix Basics\n",
    "\n",
    "import numpy as np\n",
    "\n",
    "revenue = np.array([[180,200,220],[24,36,40],[12,18,20]])\n",
    "expenses = np.array([[80,90,100],[10,16,20],[8,10,10]])\n",
    "\n",
    "# profit = revenue - expenses\n",
    "# \n",
    "price_per_unit = np.array([1000,400,1200])\n",
    "# by default it considers like that \n",
    "#[1000,400,1200]\n",
    "# [1000,400,1200]\n",
    "# [1000,400,1200]\n",
    "# Above is called broadcasting.\n",
    "\n",
    "# y--> product\n",
    "# x--> year \n",
    "units = np.array([[30,40,50],\n",
    "                  [5,10,15],\n",
    "                  [2,5,7]])\n",
    "\n",
    "price_per_unit*units"
   ]
  },
  {
   "cell_type": "code",
   "execution_count": 4,
   "id": "da482c5f",
   "metadata": {},
   "outputs": [
    {
     "data": {
      "text/plain": [
       "array([34400, 50000, 64400])"
      ]
     },
     "execution_count": 4,
     "metadata": {},
     "output_type": "execute_result"
    }
   ],
   "source": [
    "# in this it not do numpy broadcasting.\n",
    "np.dot(price_per_unit,units)"
   ]
  },
  {
   "cell_type": "markdown",
   "id": "19a78f28",
   "metadata": {},
   "source": [
    "# Loss Or Cost Function"
   ]
  },
  {
   "cell_type": "code",
   "execution_count": 8,
   "id": "361f7331",
   "metadata": {},
   "outputs": [],
   "source": [
    "# during model compile we use the lost function.\n",
    "\n",
    "# TENSORLFOW LOSS VALUE EXAMPLES\n",
    "# 1. sparse_categorical_crossentropy\n",
    "# 2.binary_crossentropy\n",
    "# 3.categorical_crossentropy\n",
    "# 4.mean_absolute_error\n",
    "# 5.mean_squared_error\n",
    "\n",
    "# Squared helps to converge gradient descent in a better way."
   ]
  },
  {
   "cell_type": "code",
   "execution_count": 10,
   "id": "08553b82",
   "metadata": {},
   "outputs": [],
   "source": [
    "# Binary Classification\n",
    "\n",
    "# Based on age and affordability , come up with a function that can predict if person will buy insurance or not.\n",
    "\n",
    "# Individual error is called as loss while the mean of like that is called as cost.\n",
    "\n",
    "# i epoch is going through the all samples 1 time.\n",
    "\n",
    "# log loss is also called binary cross entropy. --> -(1/n)*(  sigma( yilog(y^ i) + (1-yi) )*log(1-y^ i) )\n",
    "\n",
    "\n",
    "# NOTE : for logistic regression we used log loss not the mean squared error.\n",
    "\n",
    "# read article of mr. rajesh on towards data science for better understanding.\n"
   ]
  },
  {
   "cell_type": "code",
   "execution_count": 1,
   "id": "551eb38c",
   "metadata": {},
   "outputs": [],
   "source": [
    "import numpy as np\n",
    "\n",
    "y_predicted = np.array([1,1,0,0,1])\n",
    "y_true = np.array([0.30,0.7,1,0,0.5])"
   ]
  },
  {
   "cell_type": "code",
   "execution_count": 2,
   "id": "94c42e2c",
   "metadata": {},
   "outputs": [],
   "source": [
    "def mae(y_true,y_predicted):\n",
    "    total_error = 0;\n",
    "    for yt,yp in zip(y_true,y_predicted):\n",
    "        total_error += abs(yt-yp)\n",
    "    print(\"Total error:\",total_error)\n",
    "    mae = total_error/len(y_true)\n",
    "    print(\"Mean Absolute error :\",mae)\n",
    "    return mae"
   ]
  },
  {
   "cell_type": "code",
   "execution_count": 3,
   "id": "3e5e3fe3",
   "metadata": {},
   "outputs": [
    {
     "name": "stdout",
     "output_type": "stream",
     "text": [
      "Total error: 2.5\n",
      "Mean Absolute error : 0.5\n"
     ]
    },
    {
     "data": {
      "text/plain": [
       "0.5"
      ]
     },
     "execution_count": 3,
     "metadata": {},
     "output_type": "execute_result"
    }
   ],
   "source": [
    "mae(y_true,y_predicted)"
   ]
  },
  {
   "cell_type": "code",
   "execution_count": 4,
   "id": "af7d5a85",
   "metadata": {},
   "outputs": [
    {
     "data": {
      "text/plain": [
       "array([-0.7, -0.3,  1. ,  0. , -0.5])"
      ]
     },
     "execution_count": 4,
     "metadata": {},
     "output_type": "execute_result"
    }
   ],
   "source": [
    "# gives real difference\n",
    "y_true-y_predicted"
   ]
  },
  {
   "cell_type": "code",
   "execution_count": 5,
   "id": "5558b302",
   "metadata": {},
   "outputs": [
    {
     "data": {
      "text/plain": [
       "array([0.7, 0.3, 1. , 0. , 0.5])"
      ]
     },
     "execution_count": 5,
     "metadata": {},
     "output_type": "execute_result"
    }
   ],
   "source": [
    "np.abs(y_true-y_predicted)"
   ]
  },
  {
   "cell_type": "code",
   "execution_count": 6,
   "id": "703411e6",
   "metadata": {},
   "outputs": [
    {
     "data": {
      "text/plain": [
       "0.5"
      ]
     },
     "execution_count": 6,
     "metadata": {},
     "output_type": "execute_result"
    }
   ],
   "source": [
    "mae1 = np.mean(np.abs(y_true-y_predicted))\n",
    "mae1"
   ]
  },
  {
   "cell_type": "code",
   "execution_count": 7,
   "id": "698e2123",
   "metadata": {},
   "outputs": [
    {
     "data": {
      "text/plain": [
       "2.5"
      ]
     },
     "execution_count": 7,
     "metadata": {},
     "output_type": "execute_result"
    }
   ],
   "source": [
    "tot_error = np.sum(np.abs(y_true-y_predicted))\n",
    "tot_error"
   ]
  },
  {
   "cell_type": "code",
   "execution_count": 8,
   "id": "f1b4094e",
   "metadata": {},
   "outputs": [],
   "source": [
    "# while manually calculating log function , you should take care that you should avoid log(0) --> inf.\n",
    "# so whenever you encounter value as 0 so u should make it like that --> 0..0000001 i.e cose to 0.\n",
    "# so we have a epsilon for that."
   ]
  },
  {
   "cell_type": "code",
   "execution_count": 9,
   "id": "3f46e599",
   "metadata": {},
   "outputs": [
    {
     "data": {
      "text/plain": [
       "array([-23.02585093])"
      ]
     },
     "execution_count": 9,
     "metadata": {},
     "output_type": "execute_result"
    }
   ],
   "source": [
    "np.log([0.0000000001])"
   ]
  },
  {
   "cell_type": "code",
   "execution_count": 18,
   "id": "3d8fc260",
   "metadata": {},
   "outputs": [],
   "source": [
    "eplison = 1e-15\n",
    "# np.log(y_predicted) -> give inf values"
   ]
  },
  {
   "cell_type": "code",
   "execution_count": 23,
   "id": "bdc38972",
   "metadata": {},
   "outputs": [
    {
     "data": {
      "text/plain": [
       "[1, 1, 1e-15, 1e-15, 1]"
      ]
     },
     "execution_count": 23,
     "metadata": {},
     "output_type": "execute_result"
    }
   ],
   "source": [
    "y_predicted_new = [max(i,epsilon) for i in y_predicted]\n",
    "# to avoid 0.\n",
    "y_predicted_new"
   ]
  },
  {
   "cell_type": "code",
   "execution_count": 24,
   "id": "4cbcafe9",
   "metadata": {},
   "outputs": [
    {
     "data": {
      "text/plain": [
       "[0.999999999999999, 0.999999999999999, 1e-15, 1e-15, 0.999999999999999]"
      ]
     },
     "execution_count": 24,
     "metadata": {},
     "output_type": "execute_result"
    }
   ],
   "source": [
    "y_predicted_new = [min(i,1-epsilon) for i in y_predicted_new]\n",
    "y_predicted_new"
   ]
  },
  {
   "cell_type": "code",
   "execution_count": 31,
   "id": "df1a68da",
   "metadata": {},
   "outputs": [
    {
     "data": {
      "text/plain": [
       "array([-9.99200722e-16, -9.99200722e-16, -3.45387764e+01, -3.45387764e+01,\n",
       "       -9.99200722e-16])"
      ]
     },
     "execution_count": 31,
     "metadata": {},
     "output_type": "execute_result"
    }
   ],
   "source": [
    "np.log(y_predicted_new)"
   ]
  },
  {
   "cell_type": "code",
   "execution_count": 34,
   "id": "b1557913",
   "metadata": {},
   "outputs": [
    {
     "data": {
      "text/plain": [
       "17.2696280766844"
      ]
     },
     "execution_count": 34,
     "metadata": {},
     "output_type": "execute_result"
    }
   ],
   "source": [
    "# log_error_func = -np.mean(y_true*np.log(y_predicted_new) + (1-y_true)*np.log(1-y_predicted_new) )\n",
    "# ----> 1 log_error_func = -np.mean(y_true*np.log(y_predicted_new) + (1-y_true)*np.log(1-y_predicted_new) )\n",
    "# TypeError: unsupported operand type(s) for -: 'int' and 'list'\n",
    "\n",
    "# so we should do\n",
    "y_predicted_new = np.array(y_predicted_new)\n",
    "log_error_func = -np.mean(y_true*np.log(y_predicted_new) + (1-y_true)*np.log(1-y_predicted_new) )\n",
    "log_error_func"
   ]
  },
  {
   "cell_type": "code",
   "execution_count": 37,
   "id": "d09e9cd4",
   "metadata": {},
   "outputs": [],
   "source": [
    "# np.square(3)\n",
    "def log_loss(y_true,y_predicted):\n",
    "    y_predicted_new = [max(i,epsilon) for i in y_predicted]\n",
    "    y_predicted_new = [min(i,1-epsilon) for i in y_predicted_new]\n",
    "    y_predicted_new = np.array(y_predicted_new)\n",
    "    return -np.mean(y_true*np.log(y_predicted_new) + (1-y_true)*np.log(1-y_predicted_new) )"
   ]
  },
  {
   "cell_type": "code",
   "execution_count": 38,
   "id": "209c0c12",
   "metadata": {},
   "outputs": [
    {
     "data": {
      "text/plain": [
       "17.2696280766844"
      ]
     },
     "execution_count": 38,
     "metadata": {},
     "output_type": "execute_result"
    }
   ],
   "source": [
    "log_loss(y_true,y_predicted)"
   ]
  },
  {
   "cell_type": "code",
   "execution_count": 40,
   "id": "1f087e96",
   "metadata": {},
   "outputs": [
    {
     "data": {
      "text/plain": [
       "0.366"
      ]
     },
     "execution_count": 40,
     "metadata": {},
     "output_type": "execute_result"
    }
   ],
   "source": [
    "mse = np.mean(np.square(y_true-y_predicted))\n",
    "mse "
   ]
  },
  {
   "cell_type": "code",
   "execution_count": null,
   "id": "d486875d",
   "metadata": {},
   "outputs": [],
   "source": []
  }
 ],
 "metadata": {
  "kernelspec": {
   "display_name": "Python 3 (ipykernel)",
   "language": "python",
   "name": "python3"
  },
  "language_info": {
   "codemirror_mode": {
    "name": "ipython",
    "version": 3
   },
   "file_extension": ".py",
   "mimetype": "text/x-python",
   "name": "python",
   "nbconvert_exporter": "python",
   "pygments_lexer": "ipython3",
   "version": "3.9.12"
  }
 },
 "nbformat": 4,
 "nbformat_minor": 5
}
