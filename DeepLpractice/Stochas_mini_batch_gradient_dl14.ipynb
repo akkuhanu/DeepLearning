{
  "nbformat": 4,
  "nbformat_minor": 0,
  "metadata": {
    "colab": {
      "name": "Untitled2.ipynb",
      "provenance": [],
      "collapsed_sections": [],
      "authorship_tag": "ABX9TyNlUpBu6/4DtLEOsmets03P",
      "include_colab_link": true
    },
    "kernelspec": {
      "name": "python3",
      "display_name": "Python 3"
    },
    "language_info": {
      "name": "python"
    }
  },
  "cells": [
    {
      "cell_type": "markdown",
      "metadata": {
        "id": "view-in-github",
        "colab_type": "text"
      },
      "source": [
        "<a href=\"https://colab.research.google.com/github/akkuhanu/DeepLearning/blob/main/DeepLpractice/Stochas_mini_batch_gradient_dl14.ipynb\" target=\"_parent\"><img src=\"https://colab.research.google.com/assets/colab-badge.svg\" alt=\"Open In Colab\"/></a>"
      ]
    },
    {
      "cell_type": "code",
      "execution_count": 1,
      "metadata": {
        "id": "1YsdwZ8th8wI"
      },
      "outputs": [],
      "source": [
        "# Batch Gradient Descent\n",
        "#.1.Use all the training samples for one forward pass and then adjust weights.\n",
        "# 2.Good for small trainibng set\n",
        "# graph is smoother\n",
        "\n",
        "#Stochastic Gradient Descent\n",
        "#1. Use one(randomly picked) sample for a forward pass and then adjust weights\n",
        "#2. Good when training set is. very big and we don't want too much computation.\n",
        "# graph is something zig-zag.\n",
        "\n",
        "# Mini-Batch Gradient \n",
        "# It is similar to SGD , instead of choosing one randomly picked sample,\n",
        "# you will use a (batch of randomly picked) training samples.\n"
      ]
    },
    {
      "cell_type": "code",
      "source": [
        "import pandas as pd\n",
        "import numpy as np\n",
        "from matplotlib import pyplot as plt\n",
        "%matplotlib inline"
      ],
      "metadata": {
        "id": "VxkIRKJ1nPy7"
      },
      "execution_count": 2,
      "outputs": []
    },
    {
      "cell_type": "code",
      "source": [
        "df = pd.read_csv(\"https://raw.githubusercontent.com/akkuhanu/DeepLearning/main/DeepLpractice/homeprices_banglore.csv\")\n",
        "# df.head()\n",
        "df.sample(5)"
      ],
      "metadata": {
        "colab": {
          "base_uri": "https://localhost:8080/",
          "height": 206
        },
        "id": "e_lgk2Popv6x",
        "outputId": "b87d1641-85c2-4d31-c679-9a94769cd583"
      },
      "execution_count": 3,
      "outputs": [
        {
          "output_type": "execute_result",
          "data": {
            "text/plain": [
              "    area  bedrooms  price\n",
              "19   800         1   32.0\n",
              "10  1800         3   82.0\n",
              "4   1200         2   51.0\n",
              "1   2600         4  120.0\n",
              "5   1170         2   38.0"
            ],
            "text/html": [
              "\n",
              "  <div id=\"df-f6eaee64-0423-4915-a782-fed0681a10b6\">\n",
              "    <div class=\"colab-df-container\">\n",
              "      <div>\n",
              "<style scoped>\n",
              "    .dataframe tbody tr th:only-of-type {\n",
              "        vertical-align: middle;\n",
              "    }\n",
              "\n",
              "    .dataframe tbody tr th {\n",
              "        vertical-align: top;\n",
              "    }\n",
              "\n",
              "    .dataframe thead th {\n",
              "        text-align: right;\n",
              "    }\n",
              "</style>\n",
              "<table border=\"1\" class=\"dataframe\">\n",
              "  <thead>\n",
              "    <tr style=\"text-align: right;\">\n",
              "      <th></th>\n",
              "      <th>area</th>\n",
              "      <th>bedrooms</th>\n",
              "      <th>price</th>\n",
              "    </tr>\n",
              "  </thead>\n",
              "  <tbody>\n",
              "    <tr>\n",
              "      <th>19</th>\n",
              "      <td>800</td>\n",
              "      <td>1</td>\n",
              "      <td>32.0</td>\n",
              "    </tr>\n",
              "    <tr>\n",
              "      <th>10</th>\n",
              "      <td>1800</td>\n",
              "      <td>3</td>\n",
              "      <td>82.0</td>\n",
              "    </tr>\n",
              "    <tr>\n",
              "      <th>4</th>\n",
              "      <td>1200</td>\n",
              "      <td>2</td>\n",
              "      <td>51.0</td>\n",
              "    </tr>\n",
              "    <tr>\n",
              "      <th>1</th>\n",
              "      <td>2600</td>\n",
              "      <td>4</td>\n",
              "      <td>120.0</td>\n",
              "    </tr>\n",
              "    <tr>\n",
              "      <th>5</th>\n",
              "      <td>1170</td>\n",
              "      <td>2</td>\n",
              "      <td>38.0</td>\n",
              "    </tr>\n",
              "  </tbody>\n",
              "</table>\n",
              "</div>\n",
              "      <button class=\"colab-df-convert\" onclick=\"convertToInteractive('df-f6eaee64-0423-4915-a782-fed0681a10b6')\"\n",
              "              title=\"Convert this dataframe to an interactive table.\"\n",
              "              style=\"display:none;\">\n",
              "        \n",
              "  <svg xmlns=\"http://www.w3.org/2000/svg\" height=\"24px\"viewBox=\"0 0 24 24\"\n",
              "       width=\"24px\">\n",
              "    <path d=\"M0 0h24v24H0V0z\" fill=\"none\"/>\n",
              "    <path d=\"M18.56 5.44l.94 2.06.94-2.06 2.06-.94-2.06-.94-.94-2.06-.94 2.06-2.06.94zm-11 1L8.5 8.5l.94-2.06 2.06-.94-2.06-.94L8.5 2.5l-.94 2.06-2.06.94zm10 10l.94 2.06.94-2.06 2.06-.94-2.06-.94-.94-2.06-.94 2.06-2.06.94z\"/><path d=\"M17.41 7.96l-1.37-1.37c-.4-.4-.92-.59-1.43-.59-.52 0-1.04.2-1.43.59L10.3 9.45l-7.72 7.72c-.78.78-.78 2.05 0 2.83L4 21.41c.39.39.9.59 1.41.59.51 0 1.02-.2 1.41-.59l7.78-7.78 2.81-2.81c.8-.78.8-2.07 0-2.86zM5.41 20L4 18.59l7.72-7.72 1.47 1.35L5.41 20z\"/>\n",
              "  </svg>\n",
              "      </button>\n",
              "      \n",
              "  <style>\n",
              "    .colab-df-container {\n",
              "      display:flex;\n",
              "      flex-wrap:wrap;\n",
              "      gap: 12px;\n",
              "    }\n",
              "\n",
              "    .colab-df-convert {\n",
              "      background-color: #E8F0FE;\n",
              "      border: none;\n",
              "      border-radius: 50%;\n",
              "      cursor: pointer;\n",
              "      display: none;\n",
              "      fill: #1967D2;\n",
              "      height: 32px;\n",
              "      padding: 0 0 0 0;\n",
              "      width: 32px;\n",
              "    }\n",
              "\n",
              "    .colab-df-convert:hover {\n",
              "      background-color: #E2EBFA;\n",
              "      box-shadow: 0px 1px 2px rgba(60, 64, 67, 0.3), 0px 1px 3px 1px rgba(60, 64, 67, 0.15);\n",
              "      fill: #174EA6;\n",
              "    }\n",
              "\n",
              "    [theme=dark] .colab-df-convert {\n",
              "      background-color: #3B4455;\n",
              "      fill: #D2E3FC;\n",
              "    }\n",
              "\n",
              "    [theme=dark] .colab-df-convert:hover {\n",
              "      background-color: #434B5C;\n",
              "      box-shadow: 0px 1px 3px 1px rgba(0, 0, 0, 0.15);\n",
              "      filter: drop-shadow(0px 1px 2px rgba(0, 0, 0, 0.3));\n",
              "      fill: #FFFFFF;\n",
              "    }\n",
              "  </style>\n",
              "\n",
              "      <script>\n",
              "        const buttonEl =\n",
              "          document.querySelector('#df-f6eaee64-0423-4915-a782-fed0681a10b6 button.colab-df-convert');\n",
              "        buttonEl.style.display =\n",
              "          google.colab.kernel.accessAllowed ? 'block' : 'none';\n",
              "\n",
              "        async function convertToInteractive(key) {\n",
              "          const element = document.querySelector('#df-f6eaee64-0423-4915-a782-fed0681a10b6');\n",
              "          const dataTable =\n",
              "            await google.colab.kernel.invokeFunction('convertToInteractive',\n",
              "                                                     [key], {});\n",
              "          if (!dataTable) return;\n",
              "\n",
              "          const docLinkHtml = 'Like what you see? Visit the ' +\n",
              "            '<a target=\"_blank\" href=https://colab.research.google.com/notebooks/data_table.ipynb>data table notebook</a>'\n",
              "            + ' to learn more about interactive tables.';\n",
              "          element.innerHTML = '';\n",
              "          dataTable['output_type'] = 'display_data';\n",
              "          await google.colab.output.renderOutput(dataTable, element);\n",
              "          const docLink = document.createElement('div');\n",
              "          docLink.innerHTML = docLinkHtml;\n",
              "          element.appendChild(docLink);\n",
              "        }\n",
              "      </script>\n",
              "    </div>\n",
              "  </div>\n",
              "  "
            ]
          },
          "metadata": {},
          "execution_count": 3
        }
      ]
    },
    {
      "cell_type": "code",
      "source": [
        "# Minmax scaling helps to convert/scaled your data in range of 0-1.\n",
        "# (You can also use your default like derivation using python to do this)\n",
        "from  sklearn import preprocessing\n",
        "\n",
        "sx = preprocessing.MinMaxScaler()\n",
        "sy = preprocessing.MinMaxScaler()\n",
        "\n",
        "scaled_x = sx.fit_transform(df.drop('price',axis='columns'))\n",
        "scaled_x\n"
      ],
      "metadata": {
        "colab": {
          "base_uri": "https://localhost:8080/"
        },
        "id": "VGUwvO96p0tE",
        "outputId": "20d06d06-3a45-4eb1-93b9-61e8b683c64c"
      },
      "execution_count": 5,
      "outputs": [
        {
          "output_type": "execute_result",
          "data": {
            "text/plain": [
              "array([[0.08827586, 0.25      ],\n",
              "       [0.62068966, 0.75      ],\n",
              "       [0.22068966, 0.5       ],\n",
              "       [0.24862069, 0.5       ],\n",
              "       [0.13793103, 0.25      ],\n",
              "       [0.12758621, 0.25      ],\n",
              "       [0.6662069 , 0.75      ],\n",
              "       [0.86206897, 0.75      ],\n",
              "       [0.17586207, 0.5       ],\n",
              "       [1.        , 1.        ],\n",
              "       [0.34482759, 0.5       ],\n",
              "       [0.68448276, 0.75      ],\n",
              "       [0.06896552, 0.25      ],\n",
              "       [0.10344828, 0.25      ],\n",
              "       [0.5       , 0.5       ],\n",
              "       [0.12931034, 0.25      ],\n",
              "       [0.13103448, 0.5       ],\n",
              "       [0.25517241, 0.5       ],\n",
              "       [0.67931034, 0.5       ],\n",
              "       [0.        , 0.        ]])"
            ]
          },
          "metadata": {},
          "execution_count": 5
        }
      ]
    },
    {
      "cell_type": "code",
      "source": [
        "df.shape"
      ],
      "metadata": {
        "colab": {
          "base_uri": "https://localhost:8080/"
        },
        "id": "wGmnLy8GrCfy",
        "outputId": "aef72830-de32-42df-958f-e20245bba639"
      },
      "execution_count": 6,
      "outputs": [
        {
          "output_type": "execute_result",
          "data": {
            "text/plain": [
              "(20, 3)"
            ]
          },
          "metadata": {},
          "execution_count": 6
        }
      ]
    },
    {
      "cell_type": "code",
      "source": [
        "# yha reshape 2d array m hua h\n",
        "scaled_y = sy.fit_transform(df['price'].values.reshape(df.shape[0],1))\n",
        "scaled_y"
      ],
      "metadata": {
        "colab": {
          "base_uri": "https://localhost:8080/"
        },
        "id": "R8DV_JfHr-ZL",
        "outputId": "84a0eb07-86ef-4759-f438-73f7b960323a"
      },
      "execution_count": 7,
      "outputs": [
        {
          "output_type": "execute_result",
          "data": {
            "text/plain": [
              "array([[0.05237037],\n",
              "       [0.65185185],\n",
              "       [0.22222222],\n",
              "       [0.31851852],\n",
              "       [0.14074074],\n",
              "       [0.04444444],\n",
              "       [0.76296296],\n",
              "       [0.91111111],\n",
              "       [0.13333333],\n",
              "       [1.        ],\n",
              "       [0.37037037],\n",
              "       [0.8       ],\n",
              "       [0.04444444],\n",
              "       [0.05925926],\n",
              "       [0.51111111],\n",
              "       [0.07407407],\n",
              "       [0.11851852],\n",
              "       [0.20740741],\n",
              "       [0.51851852],\n",
              "       [0.        ]])"
            ]
          },
          "metadata": {},
          "execution_count": 7
        }
      ]
    },
    {
      "cell_type": "markdown",
      "source": [
        "*Batch Gradient Descent*\n"
      ],
      "metadata": {
        "id": "GO22I6MlspeD"
      }
    },
    {
      "cell_type": "code",
      "source": [
        "scaled_y.T    "
      ],
      "metadata": {
        "colab": {
          "base_uri": "https://localhost:8080/"
        },
        "id": "QIX-kUlysyQj",
        "outputId": "527dfdad-2183-43c7-e6db-e27d5c9422cf"
      },
      "execution_count": 8,
      "outputs": [
        {
          "output_type": "execute_result",
          "data": {
            "text/plain": [
              "array([[0.05237037, 0.65185185, 0.22222222, 0.31851852, 0.14074074,\n",
              "        0.04444444, 0.76296296, 0.91111111, 0.13333333, 1.        ,\n",
              "        0.37037037, 0.8       , 0.04444444, 0.05925926, 0.51111111,\n",
              "        0.07407407, 0.11851852, 0.20740741, 0.51851852, 0.        ]])"
            ]
          },
          "metadata": {},
          "execution_count": 8
        }
      ]
    },
    {
      "cell_type": "code",
      "source": [
        "scaled_x.T # (transpose)"
      ],
      "metadata": {
        "id": "s1n7f0twtPnc",
        "colab": {
          "base_uri": "https://localhost:8080/"
        },
        "outputId": "9ca51676-f6eb-4a40-b32e-29b85473d8d9"
      },
      "execution_count": 9,
      "outputs": [
        {
          "output_type": "execute_result",
          "data": {
            "text/plain": [
              "array([[0.08827586, 0.62068966, 0.22068966, 0.24862069, 0.13793103,\n",
              "        0.12758621, 0.6662069 , 0.86206897, 0.17586207, 1.        ,\n",
              "        0.34482759, 0.68448276, 0.06896552, 0.10344828, 0.5       ,\n",
              "        0.12931034, 0.13103448, 0.25517241, 0.67931034, 0.        ],\n",
              "       [0.25      , 0.75      , 0.5       , 0.5       , 0.25      ,\n",
              "        0.25      , 0.75      , 0.75      , 0.5       , 1.        ,\n",
              "        0.5       , 0.75      , 0.25      , 0.25      , 0.5       ,\n",
              "        0.25      , 0.5       , 0.5       , 0.5       , 0.        ]])"
            ]
          },
          "metadata": {},
          "execution_count": 9
        }
      ]
    },
    {
      "cell_type": "code",
      "source": [
        "np.ones(shape=(2,2))"
      ],
      "metadata": {
        "colab": {
          "base_uri": "https://localhost:8080/"
        },
        "id": "CeE28SJv96pY",
        "outputId": "ac1268de-aff2-4e48-b45a-8f7d9ad307b6"
      },
      "execution_count": 10,
      "outputs": [
        {
          "output_type": "execute_result",
          "data": {
            "text/plain": [
              "array([[1., 1.],\n",
              "       [1., 1.]])"
            ]
          },
          "metadata": {},
          "execution_count": 10
        }
      ]
    },
    {
      "cell_type": "code",
      "source": [
        "w = np.ones(shape=(2)) # (1 x 2 )"
      ],
      "metadata": {
        "id": "TTqMG_TT_Oju"
      },
      "execution_count": 11,
      "outputs": []
    },
    {
      "cell_type": "code",
      "source": [
        "np.dot(w,scaled_x.T)"
      ],
      "metadata": {
        "colab": {
          "base_uri": "https://localhost:8080/"
        },
        "id": "pM7MJAsk_z8a",
        "outputId": "e82c1d3b-c87d-4436-f744-53f23f8fb273"
      },
      "execution_count": 12,
      "outputs": [
        {
          "output_type": "execute_result",
          "data": {
            "text/plain": [
              "array([0.33827586, 1.37068966, 0.72068966, 0.74862069, 0.38793103,\n",
              "       0.37758621, 1.4162069 , 1.61206897, 0.67586207, 2.        ,\n",
              "       0.84482759, 1.43448276, 0.31896552, 0.35344828, 1.        ,\n",
              "       0.37931034, 0.63103448, 0.75517241, 1.17931034, 0.        ])"
            ]
          },
          "metadata": {},
          "execution_count": 12
        }
      ]
    },
    {
      "cell_type": "code",
      "source": [
        "a = np.array([1,2,3])\n",
        "b = np.array([10,5,7])\n",
        "a-b"
      ],
      "metadata": {
        "colab": {
          "base_uri": "https://localhost:8080/"
        },
        "id": "k_tg1eD_CE4G",
        "outputId": "df7837c1-5353-445f-fb9d-4f15a41d3952"
      },
      "execution_count": 13,
      "outputs": [
        {
          "output_type": "execute_result",
          "data": {
            "text/plain": [
              "array([-9, -3, -4])"
            ]
          },
          "metadata": {},
          "execution_count": 13
        }
      ]
    },
    {
      "cell_type": "code",
      "source": [
        "np.square(a-b)"
      ],
      "metadata": {
        "colab": {
          "base_uri": "https://localhost:8080/"
        },
        "id": "UeEI_kSZCO2S",
        "outputId": "f06f837c-4ef2-46f1-c0e6-c1f0af83803b"
      },
      "execution_count": 14,
      "outputs": [
        {
          "output_type": "execute_result",
          "data": {
            "text/plain": [
              "array([81,  9, 16])"
            ]
          },
          "metadata": {},
          "execution_count": 14
        }
      ]
    },
    {
      "cell_type": "code",
      "source": [
        "def batch_gradient_descent(x,y_true,epochs,learning_rate=0.01):\n",
        "\n",
        "  number_of_features = x.shape[1]\n",
        "  w = np.ones(shape=(number_of_features))\n",
        "  b = 0\n",
        "  total_samples = x.shape[0]\n",
        "\n",
        "  cost_list = []\n",
        "  epoch_list = []\n",
        "\n",
        "  for i in range(epochs):\n",
        "\n",
        "    y_predicted = np.dot(w,scaled_x.T) + b #(w1*area+w2*bedrooms+bias)\n",
        "    # w_grad is derivative of mean square expression\n",
        "    w_grad = -(2/total_samples)*(x.T.dot(y_true-y_predicted))\n",
        "    b_grad = -(2/total_samples)*np.sum(y_true-y_predicted)\n",
        "\n",
        "    w = w - learning_rate*w_grad\n",
        "    b = b - learning_rate*b_grad\n",
        "\n",
        "    cost = np.mean(np.square(y_true-y_predicted))\n",
        "    # In ML, cost functions are used to estimate how badly models are performing. \n",
        "    # Put simply, a cost function is a measure of how wrong the model is in terms\n",
        "    # of its ability to estimate the relationship between X and y. This is \n",
        "    # typically expressed as a difference or distance between the predicted value \n",
        "    # and the actual value.\n",
        "\n",
        "    if i%10==0 :\n",
        "      cost_list.append(cost)\n",
        "      epoch_list.append(i)\n",
        "\n",
        "  return w,b,cost,cost_list,epoch_list\n",
        "# Note : Internally sklearn model do the same thing.\n",
        "w,b,cost,cost_list,epoch_list = batch_gradient_descent(scaled_x,scaled_y.reshape(scaled_y.shape[0],),500)\n",
        "# scaled_y.reshape(scaled_y.shape[0],) ---> it is like a transpose.\n",
        "\n",
        "print(\"Coeffecients :\",w)\n",
        "print(\"Bias :\",b)\n",
        "print(\"COST  :\",cost)"
      ],
      "metadata": {
        "id": "UHS87dAQ-GGb",
        "colab": {
          "base_uri": "https://localhost:8080/"
        },
        "outputId": "7d8f72a2-ee98-4487-aa0d-352f0e57191f"
      },
      "execution_count": 15,
      "outputs": [
        {
          "output_type": "stream",
          "name": "stdout",
          "text": [
            "Coeffecients : [0.70712464 0.67456527]\n",
            "Bias : -0.23034857438407427\n",
            "COST  : 0.0068641890429808105\n"
          ]
        }
      ]
    },
    {
      "cell_type": "code",
      "source": [
        "plt.xlabel(\"epoch\")\n",
        "plt.ylabel(\"cost\")\n",
        "plt.plot(epoch_list,cost_list)"
      ],
      "metadata": {
        "colab": {
          "base_uri": "https://localhost:8080/",
          "height": 296
        },
        "id": "TtrR57t7_bnP",
        "outputId": "43b0ab68-90ef-454f-d365-fcea9195850f"
      },
      "execution_count": 16,
      "outputs": [
        {
          "output_type": "execute_result",
          "data": {
            "text/plain": [
              "[<matplotlib.lines.Line2D at 0x7f49ef4cca50>]"
            ]
          },
          "metadata": {},
          "execution_count": 16
        },
        {
          "output_type": "display_data",
          "data": {
            "text/plain": [
              "<Figure size 432x288 with 1 Axes>"
            ],
            "image/png": "[encoded data removed]"
          },
          "metadata": {
            "needs_background": "light"
          }
        }
      ]
    },
    {
      "cell_type": "code",
      "source": [
        "# from  sklearn import preprocessing\n",
        "# sx = preprocessing.MinMaxScaler()\n",
        "# sy = preprocessing.MinMaxScaler()\n",
        "\n",
        "# sx.transform([[20222,4]])\n",
        "# it helps to scale the values."
      ],
      "metadata": {
        "id": "vfvfX9_mEPlK"
      },
      "execution_count": 17,
      "outputs": []
    },
    {
      "cell_type": "code",
      "source": [
        "# sy.inverse_transform([[1,0]])\n",
        "# array([[167.,  32.]])"
      ],
      "metadata": {
        "id": "bcsu6vrhGmPR"
      },
      "execution_count": 18,
      "outputs": []
    },
    {
      "cell_type": "code",
      "source": [
        "# s = sx.transform([[20222,4]])\n",
        "# s[0][0]  , s[0]\n",
        "# (17622.0, array([17622.,     0.]))"
      ],
      "metadata": {
        "id": "7xtvHDRuG-ZT"
      },
      "execution_count": 19,
      "outputs": []
    },
    {
      "cell_type": "code",
      "source": [
        "def predict(area,bedrooms,w,b):\n",
        "\n",
        "  scaled_x1 = sx.transform([[area,bedrooms]])[0]\n",
        "  scaled_price1 = w[0]*scaled_x1[0] + w[1]*scaled_x1[1] + b\n",
        "\n",
        "  # scaled_x = sx.transform([[area,bedrooms]])\n",
        "  # scaled_price = w[0]*scaled_x[0][0] + w[1]*scaled_x[0][1] + b\n",
        "  return sy.inverse_transform([[scaled_price1]])[0][0]\n",
        "  # it helps to revert back the values.\n",
        "  pass\n",
        "predict(2400,4,w,b)\n",
        "# i think there is some mistake of sx tranform as result is not expected ."
      ],
      "metadata": {
        "colab": {
          "base_uri": "https://localhost:8080/"
        },
        "id": "Lc9OnghTFJ14",
        "outputId": "eacfa2bf-3abf-4234-b95e-e6683ceda10b"
      },
      "execution_count": 21,
      "outputs": [
        {
          "output_type": "stream",
          "name": "stderr",
          "text": [
            "/usr/local/lib/python3.7/dist-packages/sklearn/base.py:451: UserWarning: X does not have valid feature names, but MinMaxScaler was fitted with feature names\n",
            "  \"X does not have valid feature names, but\"\n"
          ]
        },
        {
          "output_type": "execute_result",
          "data": {
            "text/plain": [
              "121.87126977240116"
            ]
          },
          "metadata": {},
          "execution_count": 21
        }
      ]
    },
    {
      "cell_type": "code",
      "source": [
        "predict(1000,2,w,b)"
      ],
      "metadata": {
        "id": "IOmrWEVdGujY",
        "colab": {
          "base_uri": "https://localhost:8080/"
        },
        "outputId": "28c9ad24-c881-4cb0-b670-90f382a0aeec"
      },
      "execution_count": 22,
      "outputs": [
        {
          "output_type": "stream",
          "name": "stderr",
          "text": [
            "/usr/local/lib/python3.7/dist-packages/sklearn/base.py:451: UserWarning: X does not have valid feature names, but MinMaxScaler was fitted with feature names\n",
            "  \"X does not have valid feature names, but\"\n"
          ]
        },
        {
          "output_type": "execute_result",
          "data": {
            "text/plain": [
              "30.253094462442355"
            ]
          },
          "metadata": {},
          "execution_count": 22
        }
      ]
    },
    {
      "cell_type": "markdown",
      "source": [
        "STOCHASTIC Gradient_Descent\n"
      ],
      "metadata": {
        "id": "jyLL0o67X68P"
      }
    },
    {
      "cell_type": "code",
      "source": [
        "def stochastic_gradient_descent(x,y,epochs,learning_rate=0.01):\n",
        "  import random\n",
        "  number_of_features = x.shape[1]\n",
        "\n",
        "  # numpy array with 1 row and columns equal to number of features. In \n",
        "  # our case number_of_features = 3 (area,bedroom,age)\n",
        "\n",
        "  w = np.ones(shape=(number_of_features))\n",
        "  b = 0\n",
        "  total_samples = x.shape[0]\n",
        "\n",
        "  cost_list = []\n",
        "  epoch_list = []\n",
        "\n",
        "  for i in range(epochs):\n",
        "\n",
        "    random_index = random.randint(0,total_samples-1)\n",
        "    sample_x = x[random_index]\n",
        "    sample_y = y[random_index]\n",
        "    y_predicted = np.dot(w,sample_x.T) + b\n",
        "\n",
        "    w_grad = -(2/total_samples)*(sample_x.T.dot(sample_y-y_predicted))\n",
        "    b_grad = -(2/total_samples)*(sample_y-y_predicted)\n",
        "    \n",
        "    w = w - learning_rate*w_grad\n",
        "    b = b - learning_rate*b_grad\n",
        "    \n",
        "    cost = np.square(sample_y - y_predicted)\n",
        "    \n",
        "    if i%100==0 :\n",
        "       # at every 100th iteration record the cost and epoch value\n",
        "       cost_list.append(cost)\n",
        "       epoch_list.append(i)\n",
        "       \n",
        "  return w,b,cost,cost_list,epoch_list\n",
        "\n",
        "w_sgd ,b_sgd,cost_sgd,cost_list_sgd,epoch_list_sgd = stochastic_gradient_descent(scaled_x,scaled_y.reshape(scaled_y.shape[0],),10000)\n",
        "\n",
        "w_sgd , b_sgd ,cost_sgd"
      ],
      "metadata": {
        "colab": {
          "base_uri": "https://localhost:8080/"
        },
        "id": "D5vkUJG4YAkJ",
        "outputId": "c23bc033-0eb6-4b1a-bf6a-2feedd66de88"
      },
      "execution_count": 32,
      "outputs": [
        {
          "output_type": "execute_result",
          "data": {
            "text/plain": [
              "(array([0.70846599, 0.67460782]), -0.23179293971355341, 0.0016799806538312742)"
            ]
          },
          "metadata": {},
          "execution_count": 32
        }
      ]
    },
    {
      "cell_type": "code",
      "source": [
        "plt.xlabel(\"epoch\")\n",
        "plt.ylabel(\"cost\")\n",
        "plt.plot(epoch_list_sgd,cost_list_sgd)"
      ],
      "metadata": {
        "colab": {
          "base_uri": "https://localhost:8080/",
          "height": 296
        },
        "id": "gjY7JyMTahuw",
        "outputId": "22442d89-ce2f-4c12-b855-edcb58449599"
      },
      "execution_count": 31,
      "outputs": [
        {
          "output_type": "execute_result",
          "data": {
            "text/plain": [
              "[<matplotlib.lines.Line2D at 0x7f49ed3c28d0>]"
            ]
          },
          "metadata": {},
          "execution_count": 31
        },
        {
          "output_type": "display_data",
          "data": {
            "text/plain": [
              "<Figure size 432x288 with 1 Axes>"
            ],
            "image/png": "[encoded data removed]"
          },
          "metadata": {
            "needs_background": "light"
          }
        }
      ]
    },
    {
      "cell_type": "code",
      "source": [
        "predict(2600,4,w_sgd,b_sgd)"
      ],
      "metadata": {
        "colab": {
          "base_uri": "https://localhost:8080/"
        },
        "id": "d21vS759bOmf",
        "outputId": "a4ed320f-baf6-4fc9-ea8a-25d017c20acd"
      },
      "execution_count": 33,
      "outputs": [
        {
          "output_type": "stream",
          "name": "stderr",
          "text": [
            "/usr/local/lib/python3.7/dist-packages/sklearn/base.py:451: UserWarning: X does not have valid feature names, but MinMaxScaler was fitted with feature names\n",
            "  \"X does not have valid feature names, but\"\n"
          ]
        },
        {
          "output_type": "execute_result",
          "data": {
            "text/plain": [
              "128.37655876929142"
            ]
          },
          "metadata": {},
          "execution_count": 33
        }
      ]
    },
    {
      "cell_type": "code",
      "source": [
        ""
      ],
      "metadata": {
        "id": "UfoLmD2Vbr8z"
      },
      "execution_count": null,
      "outputs": []
    }
  ]
}