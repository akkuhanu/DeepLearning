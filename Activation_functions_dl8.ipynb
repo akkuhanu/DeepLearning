{
 "cells": [
  {
   "cell_type": "code",
   "execution_count": 1,
   "id": "c77cd893",
   "metadata": {},
   "outputs": [],
   "source": [
    "# note if your having a neural network wiith n difffernt layers with activation funcytion in each layer , if you remove the activation functttion, you \n",
    "# find that you don't even need that hidden layers.\n",
    "\n",
    "\n",
    "# for complex problems linear function always not solve the problem \n",
    "# so we use non linear also."
   ]
  },
  {
   "cell_type": "code",
   "execution_count": 2,
   "id": "4add9ad3",
   "metadata": {},
   "outputs": [],
   "source": [
    "# example in step function , we get a value only 0 and 1 , but in sigmoid we get it from range 0-1 i.e \n",
    "# more convenient for digit classification and to find the largest one.\n",
    "\n",
    "# also there is function called tanh which ranges from -1 to +1 ."
   ]
  },
  {
   "cell_type": "code",
   "execution_count": 3,
   "id": "1c787d13",
   "metadata": {},
   "outputs": [],
   "source": [
    "# General Guidlines --> use sigmoid in output layer (helpful in binary classification) and tanh (help to center the data)\n",
    "# in other places.\n",
    "\n",
    "\n",
    "# Derivative is like a chage in slope, in simple words here\n",
    "# it is how much our output changes for given change in slope.\n",
    "\n",
    "# IN our case , how much a person is likely to buy the insurance,based on how the factors changes."
   ]
  },
  {
   "cell_type": "code",
   "execution_count": 4,
   "id": "4897bc94",
   "metadata": {},
   "outputs": [],
   "source": [
    "# We should understand the gradient descent and cost function betterly to understand this.\n",
    "# in this so we should calculate the derivative and back propagate our errors.\n",
    "# when derivatives--> 0 our learning becomes very slow.--> called vanishing gradient probelems.\n",
    "\n",
    "# so we came across relu(z) = max(0,x) \n",
    "# Note : For hidden layers if you are not sure which activation function to use , just use relu as your default choice.\n",
    "# relu has also vanishing gradient problem, for that we have a leaky relu(z) = max(0.1x,x)\n",
    "\n",
    "\n",
    "# Activation Function\n",
    "# Step ,Sigmoid, tanh,Relu , Leaky Relu"
   ]
  },
  {
   "cell_type": "code",
   "execution_count": 5,
   "id": "3dd3778e",
   "metadata": {},
   "outputs": [],
   "source": [
    "# Sigmoid Function"
   ]
  },
  {
   "cell_type": "code",
   "execution_count": 7,
   "id": "dc1eba77",
   "metadata": {},
   "outputs": [],
   "source": [
    "import math \n",
    "def sigmoid(x):\n",
    "    return 1/(1+math.exp(-x))"
   ]
  },
  {
   "cell_type": "code",
   "execution_count": 8,
   "id": "42670721",
   "metadata": {},
   "outputs": [
    {
     "data": {
      "text/plain": [
       "1.0"
      ]
     },
     "execution_count": 8,
     "metadata": {},
     "output_type": "execute_result"
    }
   ],
   "source": [
    "sigmoid(100)"
   ]
  },
  {
   "cell_type": "code",
   "execution_count": 9,
   "id": "01456463",
   "metadata": {},
   "outputs": [
    {
     "data": {
      "text/plain": [
       "0.7310585786300049"
      ]
     },
     "execution_count": 9,
     "metadata": {},
     "output_type": "execute_result"
    }
   ],
   "source": [
    "sigmoid(1)"
   ]
  },
  {
   "cell_type": "code",
   "execution_count": 10,
   "id": "8c45e398",
   "metadata": {},
   "outputs": [
    {
     "data": {
      "text/plain": [
       "0.964027580075817"
      ]
     },
     "execution_count": 10,
     "metadata": {},
     "output_type": "execute_result"
    }
   ],
   "source": [
    "# Tanh function\n",
    "def tanh(x):\n",
    "    return (math.exp(x)-math.exp(-x))/(math.exp(x)+math.exp(-x))\n",
    "tanh(2)"
   ]
  },
  {
   "cell_type": "code",
   "execution_count": 11,
   "id": "c27bab0b",
   "metadata": {},
   "outputs": [],
   "source": [
    "# Relu Function\n",
    "def relu(x):\n",
    "    return max(0,x)\n",
    "# leaky Relu\n",
    "def leakyrelu(x):\n",
    "    return max(0.1*x,x)"
   ]
  },
  {
   "cell_type": "code",
   "execution_count": null,
   "id": "500c5daf",
   "metadata": {},
   "outputs": [],
   "source": []
  }
 ],
 "metadata": {
  "kernelspec": {
   "display_name": "Python 3 (ipykernel)",
   "language": "python",
   "name": "python3"
  },
  "language_info": {
   "codemirror_mode": {
    "name": "ipython",
    "version": 3
   },
   "file_extension": ".py",
   "mimetype": "text/x-python",
   "name": "python",
   "nbconvert_exporter": "python",
   "pygments_lexer": "ipython3",
   "version": "3.9.12"
  }
 },
 "nbformat": 4,
 "nbformat_minor": 5
}
