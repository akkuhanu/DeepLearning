{
 "cells": [
  {
   "cell_type": "markdown",
   "id": "cf8626fd",
   "metadata": {},
   "source": [
    "# GRADIENT DESCENT"
   ]
  },
  {
   "cell_type": "code",
   "execution_count": null,
   "id": "3fceacf1",
   "metadata": {},
   "outputs": [],
   "source": [
    "# Important for interviews. (Core of ML Domain)\n",
    "# suppose  y = m1*a + m2*b + m3*c +...+ d.\n",
    "# in order to where m1 ,m2,m3.... are variables we give input.\n",
    "# BUT a,b,c,d... are constants to find their values we use gradient descent.\n",
    "\n"
   ]
  },
  {
   "cell_type": "code",
   "execution_count": null,
   "id": "7f25b036",
   "metadata": {},
   "outputs": [],
   "source": [
    "# steps \n",
    "\n",
    "# w1 = w1 - something\n",
    "# w1 = w1 - learningrate*d/dw1\n",
    "# d/dw1--> derivative of loss w.r.t to w1.\n",
    "\n",
    "# look for convex loss function --> https://am207.github.io/2017/wiki/gradientdescent.html\n",
    "# we find the values that correspond to min. loss."
   ]
  },
  {
   "cell_type": "code",
   "execution_count": null,
   "id": "10fc47a1",
   "metadata": {},
   "outputs": [],
   "source": [
    "import numpy as np\n",
    "import tensorflow as tf\n",
    "from tensorflow import keras\n",
    "import pandas as pd\n",
    "import matplotlib.pyplot as plt\n",
    "%matplotlib inline"
   ]
  },
  {
   "cell_type": "code",
   "execution_count": null,
   "id": "8aa14b06",
   "metadata": {
    "scrolled": true
   },
   "outputs": [],
   "source": [
    "df = pd.read_csv(\"insurance_data.csv\")\n",
    "df.head()"
   ]
  },
  {
   "cell_type": "code",
   "execution_count": null,
   "id": "1ac610bb",
   "metadata": {},
   "outputs": [],
   "source": [
    "from sklearn.model_selection import train_test_split\n",
    "x_train,x_test,y_train,y_test = train_test_split(df[['age','affordibility']],df.bought_insurance,test_size=0.2,random_state=25)"
   ]
  },
  {
   "cell_type": "code",
   "execution_count": null,
   "id": "76ec7401",
   "metadata": {},
   "outputs": [],
   "source": [
    "len(x_train)"
   ]
  },
  {
   "cell_type": "code",
   "execution_count": null,
   "id": "fe0c2ae6",
   "metadata": {},
   "outputs": [],
   "source": [
    "df.shape"
   ]
  },
  {
   "cell_type": "code",
   "execution_count": null,
   "id": "ea6b63dc",
   "metadata": {},
   "outputs": [],
   "source": [
    "x_train_scaled = x_train.copy()\n",
    "x_train_scaled['age'] = x_train_scaled['age']/100\n",
    "\n",
    "x_test_scaled = x_test.copy()\n",
    "x_test_scaled['age'] = x_test_scaled['age']/100\n"
   ]
  },
  {
   "cell_type": "code",
   "execution_count": null,
   "id": "b08545da",
   "metadata": {},
   "outputs": [],
   "source": [
    "x_train_scaled"
   ]
  },
  {
   "cell_type": "code",
   "execution_count": null,
   "id": "da172e1f",
   "metadata": {},
   "outputs": [],
   "source": [
    "# scaling helps to bring age and affordability on the same scale.\n"
   ]
  },
  {
   "cell_type": "code",
   "execution_count": null,
   "id": "1a987f03",
   "metadata": {},
   "outputs": [],
   "source": [
    "model = keras.Sequential(\n",
    "    [\n",
    "        keras.layers.Dense(1,input_shape=(2,),activation='sigmoid',kernel_initializer='ones',bias_initializer='zeros')\n",
    "    ]\n",
    ")\n",
    "# note it is zeros not zeroes\n",
    "# binary crossentropy is same as log loss.\n",
    "\n",
    "model.compile(\n",
    "    optimizer='adam',\n",
    "    loss='binary_crossentropy',\n",
    "    metrics=['accuracy'])\n",
    "\n",
    "model.fit(x_train_scaled,y_train,epochs=5000)"
   ]
  },
  {
   "cell_type": "code",
   "execution_count": null,
   "id": "f0d58fac",
   "metadata": {},
   "outputs": [],
   "source": [
    "model.evaluate(x_test_scaled,y_test)"
   ]
  },
  {
   "cell_type": "code",
   "execution_count": null,
   "id": "c7d1c887",
   "metadata": {},
   "outputs": [],
   "source": [
    "model.predict(x_test_scaled)\n",
    "# if greater than 0.5 means buy the insurance."
   ]
  },
  {
   "cell_type": "code",
   "execution_count": null,
   "id": "5cf77414",
   "metadata": {},
   "outputs": [],
   "source": [
    "x_test_scaled"
   ]
  },
  {
   "cell_type": "code",
   "execution_count": null,
   "id": "69e285c1",
   "metadata": {},
   "outputs": [],
   "source": [
    "y_test"
   ]
  },
  {
   "cell_type": "code",
   "execution_count": null,
   "id": "789a0f91",
   "metadata": {},
   "outputs": [],
   "source": [
    "coef , intercept = model.get_weights()\n",
    "print(\"Coeffecients\",coef,\"\\n Bias Intercept:\",intercept)"
   ]
  },
  {
   "cell_type": "code",
   "execution_count": null,
   "id": "68b150e6",
   "metadata": {},
   "outputs": [],
   "source": [
    "import math\n",
    "# takes one value\n",
    "def sigmoid(x):\n",
    "    return 1/(1+math.exp(-x))\n",
    "sigmoid(10)"
   ]
  },
  {
   "cell_type": "code",
   "execution_count": null,
   "id": "0ab8bbc6",
   "metadata": {},
   "outputs": [],
   "source": [
    "# below code is like a derivation or you can say that we made the model with tensorflow help.\n",
    "def prediction_function(age,affordability):\n",
    "    age = age/100\n",
    "    weighted_sum = coef[0]*age + coef[1]*affordability + intercept\n",
    "    return sigmoid(weighted_sum)\n",
    "prediction_function(47,1)"
   ]
  },
  {
   "cell_type": "code",
   "execution_count": null,
   "id": "fbedd4c8",
   "metadata": {},
   "outputs": [],
   "source": [
    "def log_loss(y_true,y_predicted):\n",
    "    epsilon = 1e-15\n",
    "    y_predicted_new = [max(i,epsilon) for i in y_predicted]\n",
    "    y_predicted_new = [min(i,1-epsilon) for i in y_predicted_new]\n",
    "    y_predicted_new = np.array(y_predicted_new)\n",
    "    return -np.mean(y_true*np.log(y_predicted_new)+(1-y_true)*np.log(1-y_predicted_new))\n",
    "def sigmoid_numpy(x):\n",
    "    return 1/(1+np.exp(-x))\n",
    "sigmoid_numpy(np.array([12,0,1]))"
   ]
  },
  {
   "cell_type": "code",
   "execution_count": null,
   "id": "f01d9561",
   "metadata": {},
   "outputs": [],
   "source": [
    "# passing a loss threshold meanibg stop when it matches.\n",
    "def gradient_descent(age,affordibility,y_true,epochs,loss_thresold):\n",
    "    # w1,w2,bias\n",
    "    # here age is numpy array and afforability also and numpy array\n",
    "    age = np.array(age)\n",
    "    age = age/100 # scaling of age\n",
    "    affordibility = np.array(affordibility)\n",
    "    w1 = w2 = 1\n",
    "    bias = 0\n",
    "    rate = 0.5\n",
    "    n = len(age)\n",
    "    \n",
    "    for i in range (epochs):\n",
    "        weighted_sum = w1*age + w2*affordibility + bias\n",
    "        y_predicted = sigmoid_numpy(weighted_sum)\n",
    "        loss = log_loss(y_true,y_predicted)\n",
    "        # d/dw1 ---> 1/n( summasion( xi* (y^i - yi) ) ) where xi is age or like factors.\n",
    "#         in numpy for multiply us np.dot\n",
    "        deriv_w1 = np.mean( np.dot( np.transpose(age) ,(y_predicted-y_true) ) )\n",
    "        deriv_w2 = np.mean( np.dot( np.transpose(affordibility) ,(y_predicted-y_true) ) )\n",
    "        deriv_bias = np.mean(y_predicted-y_true)\n",
    "        \n",
    "        w1 = w1 - rate*deriv_w1\n",
    "        w2 = w2 - rate*deriv_w2\n",
    "        bias = bias - rate*deriv_bias\n",
    "        \n",
    "        print(f'Epoch:{i},w1:{w1},w2{w2},bias:{bias},loss:{loss}')\n",
    "        if(loss<=loss_thresold):\n",
    "            break\n",
    "    return w1,w2,bias"
   ]
  },
  {
   "cell_type": "code",
   "execution_count": null,
   "id": "81906ced",
   "metadata": {},
   "outputs": [],
   "source": [
    "gradient_descent(x_train['age'],x_train['affordibility'],y_train,5000,0.4631)"
   ]
  },
  {
   "cell_type": "code",
   "execution_count": null,
   "id": "82f8c016",
   "metadata": {},
   "outputs": [],
   "source": [
    "coef , intercept\n"
   ]
  },
  {
   "cell_type": "code",
   "execution_count": null,
   "id": "06905457",
   "metadata": {},
   "outputs": [],
   "source": [
    "# customModel = myNN()\n",
    "# customModel.fit(x_train_scaled,y_train,epochs=8000,loss_thresold=0.4631)\n",
    "# customModel.predict(x_test_scaled)"
   ]
  },
  {
   "cell_type": "code",
   "execution_count": null,
   "id": "57d283f3",
   "metadata": {},
   "outputs": [],
   "source": [
    "class myNN:\n",
    "    def __init__(self):\n",
    "        self.w1 = 1\n",
    "        self.w2 = 1\n",
    "        self.bias = 0\n",
    "    \n",
    "    def fit(self,x,y,epochs,loss_thresold):\n",
    "        self.w1,self.w2,self.bias = self.gradient_descent(x['age'],x['affordibility'],y,epochs,loss_thresold)\n",
    "        \n",
    "    # passing a loss threshold meanibg stop when it matches.\n",
    "    def gradient_descent(age,affordibility,y_true,epochs,loss_thresold):\n",
    "        # w1,w2,bias\n",
    "        # here age is numpy array and afforability also and numpy array\n",
    "        age = np.array(age)\n",
    "        age = age/100 # scaling of age\n",
    "        affordibility = np.array(affordibility)\n",
    "        w1 = w2 = 1\n",
    "        bias = 0\n",
    "        rate = 0.5\n",
    "        n = len(age)\n",
    "        for i in range (epochs):\n",
    "            weighted_sum = w1*age + w2*affordibility + bias\n",
    "            y_predicted = sigmoid_numpy(weighted_sum)\n",
    "            loss = log_loss(y_true,y_predicted)\n",
    "            # d/dw1 ---> 1/n( summasion( xi* (y^i - yi) ) ) where xi is age or like factors.\n",
    "            #in numpy for multiply us np.dot\n",
    "            deriv_w1 = np.mean( np.dot( np.transpose(age) ,(y_predicted-y_true) ) )\n",
    "            deriv_w2 = np.mean( np.dot( np.transpose(affordibility) ,(y_predicted-y_true) ) )\n",
    "            deriv_bias = np.mean(y_predicted-y_true)\n",
    "            w1 = w1 - rate*deriv_w1\n",
    "            w2 = w2 - rate*deriv_w2\n",
    "            bias = bias - rate*deriv_bias\n",
    "            print(f'Epoch:{i},w1:{w1},w2{w2},bias:{bias},loss:{loss}')\n",
    "            if(loss<=loss_thresold):\n",
    "                break\n",
    "        return w1,w2,bias"
   ]
  },
  {
   "cell_type": "code",
   "execution_count": null,
   "id": "1d64bd19",
   "metadata": {},
   "outputs": [],
   "source": [
    "customModel = myNN()\n",
    "customModel.fit(x_train_scaled,y_train,epochs=8000,loss_thresold=0.4631)"
   ]
  },
  {
   "cell_type": "code",
   "execution_count": null,
   "id": "61f0ded7",
   "metadata": {},
   "outputs": [],
   "source": []
  },
  {
   "cell_type": "code",
   "execution_count": null,
   "id": "ea359812",
   "metadata": {},
   "outputs": [],
   "source": []
  },
  {
   "cell_type": "code",
   "execution_count": null,
   "id": "6c639105",
   "metadata": {},
   "outputs": [],
   "source": []
  },
  {
   "cell_type": "code",
   "execution_count": null,
   "id": "f98bcd63",
   "metadata": {},
   "outputs": [],
   "source": []
  },
  {
   "cell_type": "code",
   "execution_count": null,
   "id": "4bfafdc4",
   "metadata": {},
   "outputs": [],
   "source": []
  },
  {
   "cell_type": "code",
   "execution_count": null,
   "id": "6b8847ff",
   "metadata": {},
   "outputs": [],
   "source": []
  },
  {
   "cell_type": "code",
   "execution_count": null,
   "id": "35c2ddbb",
   "metadata": {},
   "outputs": [],
   "source": []
  },
  {
   "cell_type": "code",
   "execution_count": null,
   "id": "f35d2c8d",
   "metadata": {},
   "outputs": [],
   "source": []
  },
  {
   "cell_type": "code",
   "execution_count": null,
   "id": "829fc511",
   "metadata": {},
   "outputs": [],
   "source": []
  },
  {
   "cell_type": "code",
   "execution_count": null,
   "id": "dec2b79d",
   "metadata": {},
   "outputs": [],
   "source": []
  },
  {
   "cell_type": "code",
   "execution_count": null,
   "id": "9fbda3a5",
   "metadata": {},
   "outputs": [],
   "source": []
  }
 ],
 "metadata": {
  "kernelspec": {
   "display_name": "Python 3 (ipykernel)",
   "language": "python",
   "name": "python3"
  },
  "language_info": {
   "codemirror_mode": {
    "name": "ipython",
    "version": 3
   },
   "file_extension": ".py",
   "mimetype": "text/x-python",
   "name": "python",
   "nbconvert_exporter": "python",
   "pygments_lexer": "ipython3",
   "version": "3.9.12"
  }
 },
 "nbformat": 4,
 "nbformat_minor": 5
}
